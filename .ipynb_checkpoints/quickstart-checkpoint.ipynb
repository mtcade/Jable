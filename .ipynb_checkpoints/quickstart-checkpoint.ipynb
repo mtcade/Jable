{
 "cells": [
  {
   "cell_type": "code",
   "execution_count": 1,
   "id": "8a804677",
   "metadata": {},
   "outputs": [],
   "source": [
    "# PyJable imports are relative to the .ipynb\n",
    "from PyJable import jable\n",
    "from PyJable.printing import prettyprint"
   ]
  },
  {
   "cell_type": "code",
   "execution_count": 2,
   "id": "c064c153",
   "metadata": {},
   "outputs": [
    {
     "name": "stdout",
     "output_type": "stream",
     "text": [
      "len(use_presidents)=0\n"
     ]
    }
   ],
   "source": [
    "# Make a basic JyFrame by describing the headers.\n",
    "us_presidents: jable.JyFrame = jable.fromHeaders(\n",
    "    fixed = {\n",
    "        \"country\": \"United States\",\n",
    "        \"position\": \"President\"\n",
    "    },\n",
    "    shiftHeader = [\n",
    "        \"first_name\",\"last_name\",\"party\"\n",
    "    ]\n",
    ")\n",
    "    \n",
    "# There is no data in it\n",
    "print( \"len(use_presidents)={}\".format(len( us_presidents) ) )\n",
    "\n"
   ]
  },
  {
   "cell_type": "code",
   "execution_count": 3,
   "id": "501e5c06",
   "metadata": {},
   "outputs": [
    {
     "name": "stdout",
     "output_type": "stream",
     "text": [
      "country position first_name last_name party\n",
      "------- -------- ---------- --------- -----\n"
     ]
    }
   ],
   "source": [
    "prettyprint( us_presidents )"
   ]
  },
  {
   "cell_type": "code",
   "execution_count": 4,
   "id": "a838b976",
   "metadata": {},
   "outputs": [
    {
     "name": "stdout",
     "output_type": "stream",
     "text": [
      "      country  position first_name  last_name      party\n",
      "------------- --------- ---------- ---------- ----------\n",
      "United States President     George Washington       None\n",
      "United States President       John      Adams Federalist\n"
     ]
    }
   ],
   "source": [
    "# Add the first two presidents. George Washington had no party, so we can say\n",
    "#   `{\"party\": None}` or omit it while setting `strict = False` in `.append`\n",
    "# John Adams was of the Federalist party, perhaps to the chagrin of GW\n",
    "us_presidents.append(\n",
    "    { \"first_name\": \"George\", \"last_name\": \"Washington\" },\n",
    "    strict = False\n",
    ")\n",
    "\n",
    "us_presidents.append(\n",
    "    { \"first_name\": \"John\", \"last_name\": \"Adams\", \"party\": \"Federalist\" }\n",
    ")\n",
    "\n",
    "prettyprint( us_presidents )"
   ]
  },
  {
   "cell_type": "code",
   "execution_count": 5,
   "id": "c828f536",
   "metadata": {},
   "outputs": [
    {
     "name": "stdout",
     "output_type": "stream",
     "text": [
      "{'_fixed': {'country': 'United States', 'position': 'President'}, '_shift': {'first_name': ['George', 'John'], 'last_name': ['Washington', 'Adams'], 'party': [None, 'Federalist']}, '_shiftIndex': {}, '_keyTypes': {}, '_meta': {}}\n"
     ]
    }
   ],
   "source": [
    "# You can inspect the json styled literal representation by using `print`\n",
    "# You won't have to do this most of the time but is useful for understanding the structure\n",
    "#   or seeing how it will save to disk\n",
    "print( us_presidents )"
   ]
  },
  {
   "cell_type": "code",
   "execution_count": 6,
   "id": "d09d85a9",
   "metadata": {},
   "outputs": [
    {
     "name": "stdout",
     "output_type": "stream",
     "text": [
      "      country  position  first_name  last_name                 party\n",
      "------------- --------- ----------- ---------- ---------------------\n",
      "United States President      George Washington                  None\n",
      "United States President        John      Adams            Federalist\n",
      "United States President      Thomas  Jefferson Democratic-Republican\n",
      "United States President       James    Madison Democratic-Republican\n",
      "United States President       James     Monroe Democratic-Republican\n",
      "United States President John Quincy      Adams Democratic-Republican\n"
     ]
    }
   ],
   "source": [
    "# Thomas Jefferson was a Democratic-Republican and things were never the same since\n",
    "us_presidents.append(\n",
    "    {\"first_name\": \"Thomas\",\"last_name\":\"Jefferson\",\"party\":\"Democratic-Republican\"}\n",
    ")\n",
    "\n",
    "# James Madison was elected next as a Democratic-Republican. Federalists are furious.\n",
    "us_presidents.append(\n",
    "    {\"first_name\": \"James\",\"last_name\":\"Madison\",\"party\":\"Democratic-Republican\"}\n",
    ")\n",
    "\n",
    "# Same with James Monroe and John Quincy Adams\n",
    "us_presidents.append(\n",
    "    {\"first_name\": \"James\",\"last_name\":\"Monroe\",\"party\":\"Democratic-Republican\"}\n",
    ")\n",
    "\n",
    "us_presidents.append(\n",
    "    {\"first_name\": \"John Quincy\",\"last_name\":\"Adams\",\"party\":\"Democratic-Republican\"}\n",
    ")\n",
    "\n",
    "prettyprint( us_presidents )"
   ]
  },
  {
   "cell_type": "code",
   "execution_count": 7,
   "id": "d2f35bc9",
   "metadata": {},
   "outputs": [
    {
     "data": {
      "text/plain": [
       "'Democratic-Republican'"
      ]
     },
     "execution_count": 7,
     "metadata": {},
     "output_type": "execute_result"
    }
   ],
   "source": [
    "# Wait, what was JQ Adams's party? We remember he was the 6th president, so index `5`\n",
    "us_presidents[ 5, \"party\" ]"
   ]
  },
  {
   "cell_type": "code",
   "execution_count": 8,
   "id": "553474cf",
   "metadata": {},
   "outputs": [
    {
     "name": "stdout",
     "output_type": "stream",
     "text": [
      "      country  position  first_name  last_name                                            party\n",
      "------------- --------- ----------- ---------- ------------------------------------------------\n",
      "United States President      George Washington                                             None\n",
      "United States President        John      Adams                                       Federalist\n",
      "United States President      Thomas  Jefferson                            Democratic-Republican\n",
      "United States President       James    Madison                            Democratic-Republican\n",
      "United States President       James     Monroe                            Democratic-Republican\n",
      "United States President John Quincy      Adams ['Democratic-Republican', 'National Republican']\n"
     ]
    }
   ],
   "source": [
    "# Despite successes, the Democratic-Republicans dissolved during his term, and JQ Adams became a National Republican\n",
    "# Since we have a JyFrame rather than a .csv based file, we can have a list as an item in the table\n",
    "# Lists of strings serialize fine as json so we are safe to do so\n",
    "us_presidents[ 5, \"party\" ] = ['Democratic-Republican','National Republican']\n",
    "\n",
    "prettyprint( us_presidents )"
   ]
  },
  {
   "cell_type": "code",
   "execution_count": 9,
   "id": "eb31acab",
   "metadata": {},
   "outputs": [
    {
     "name": "stdout",
     "output_type": "stream",
     "text": [
      " first_name  last_name                                            party\n",
      "----------- ---------- ------------------------------------------------\n",
      "     George Washington                                             None\n",
      "       John      Adams                                       Federalist\n",
      "     Thomas  Jefferson                            Democratic-Republican\n",
      "      James    Madison                            Democratic-Republican\n",
      "      James     Monroe                            Democratic-Republican\n",
      "John Quincy      Adams ['Democratic-Republican', 'National Republican']\n"
     ]
    }
   ],
   "source": [
    "# We might only care about the names and parties of presidents\n",
    "prettyprint(\n",
    "    us_presidents[ [\"first_name\",\"last_name\",\"party\"] ]\n",
    ")"
   ]
  },
  {
   "cell_type": "code",
   "execution_count": 10,
   "id": "6ec9130e",
   "metadata": {},
   "outputs": [
    {
     "name": "stdout",
     "output_type": "stream",
     "text": [
      "      country  position first_name  last_name                 party\n",
      "------------- --------- ---------- ---------- ---------------------\n",
      "United States President     George Washington                  None\n",
      "United States President       John      Adams            Federalist\n",
      "United States President     Thomas  Jefferson Democratic-Republican\n"
     ]
    }
   ],
   "source": [
    "# We can also get row subsets\n",
    "prettyprint(\n",
    "    us_presidents[ 0:3 ]\n",
    ")\n",
    "\n"
   ]
  },
  {
   "cell_type": "code",
   "execution_count": 11,
   "id": "c2838e4b",
   "metadata": {},
   "outputs": [
    {
     "name": "stdout",
     "output_type": "stream",
     "text": [
      "      country  position  first_name last_name                                            party\n",
      "------------- --------- ----------- --------- ------------------------------------------------\n",
      "United States President        John     Adams                                       Federalist\n",
      "United States President       James   Madison                            Democratic-Republican\n",
      "United States President John Quincy     Adams ['Democratic-Republican', 'National Republican']\n"
     ]
    }
   ],
   "source": [
    "prettyprint(\n",
    "    us_presidents[ (1,3,5) ]\n",
    ")"
   ]
  },
  {
   "cell_type": "code",
   "execution_count": 12,
   "id": "7028bbeb",
   "metadata": {},
   "outputs": [
    {
     "name": "stdout",
     "output_type": "stream",
     "text": [
      "first_name  last_name                 party\n",
      "---------- ---------- ---------------------\n",
      "    George Washington                  None\n",
      "      John      Adams            Federalist\n",
      "    Thomas  Jefferson Democratic-Republican\n"
     ]
    }
   ],
   "source": [
    "# We can select multiple rows and multiple columns\n",
    "prettyprint(\n",
    "    us_presidents[ 0:3, [\"first_name\",\"last_name\",\"party\"] ]\n",
    ")"
   ]
  },
  {
   "cell_type": "code",
   "execution_count": 13,
   "id": "6d00f28e",
   "metadata": {},
   "outputs": [
    {
     "name": "stdout",
     "output_type": "stream",
     "text": [
      "[None, 'Federalist', 'Democratic-Republican']\n",
      "[None, 'Federalist', 'Democratic-Republican', 'Democratic-Republican', 'Democratic-Republican', ['Democratic-Republican', 'National Republican']]\n"
     ]
    }
   ],
   "source": [
    "# Multiple rows but one column gives a list of values\n",
    "prettyprint( us_presidents[ 0:3, \"party\" ] )\n",
    "\n",
    "prettyprint( us_presidents[ \"party\" ] )"
   ]
  },
  {
   "cell_type": "code",
   "execution_count": 14,
   "id": "479232ca",
   "metadata": {},
   "outputs": [
    {
     "name": "stdout",
     "output_type": "stream",
     "text": [
      "{'country': 'United States', 'position': 'President', 'first_name': 'John', 'last_name': 'Adams', 'party': 'Federalist'}\n",
      "{'first_name': 'John', 'last_name': 'Adams', 'party': 'Federalist'}\n"
     ]
    }
   ],
   "source": [
    "# Multiple columns but one row gives a row (subset) as a dictionary\n",
    "print( us_presidents[1] )\n",
    "\n",
    "print( us_presidents[1, [\"first_name\",\"last_name\",\"party\"] ] )"
   ]
  },
  {
   "cell_type": "code",
   "execution_count": null,
   "id": "e9bbaa3e",
   "metadata": {},
   "outputs": [],
   "source": []
  }
 ],
 "metadata": {
  "kernelspec": {
   "display_name": "Python 3.11 env",
   "language": "python",
   "name": "python3.11"
  },
  "language_info": {
   "codemirror_mode": {
    "name": "ipython",
    "version": 3
   },
   "file_extension": ".py",
   "mimetype": "text/x-python",
   "name": "python",
   "nbconvert_exporter": "python",
   "pygments_lexer": "ipython3",
   "version": "3.11.10"
  }
 },
 "nbformat": 4,
 "nbformat_minor": 5
}
