{
 "cells": [
  {
   "cell_type": "code",
   "execution_count": 1,
   "id": "e03e2004",
   "metadata": {},
   "outputs": [],
   "source": [
    "# PyJable imports are relative to the .ipynb\n",
    "from PyJable import jable\n",
    "from PyJable.printing import prettyprint"
   ]
  },
  {
   "cell_type": "code",
   "execution_count": 2,
   "id": "78663f64",
   "metadata": {},
   "outputs": [
    {
     "name": "stdout",
     "output_type": "stream",
     "text": [
      "len( us_presidents )=0\n",
      "us_presidents.shape=(0, 5)\n"
     ]
    }
   ],
   "source": [
    "# Make a basic JyFrame by describing the headers.\n",
    "us_presidents: jable.JyFrame = jable.fromHeaders(\n",
    "    fixed = {\n",
    "        \"country\": \"United States\",\n",
    "        \"position\": \"President\"\n",
    "    },\n",
    "    shiftHeader = [\n",
    "        \"first_name\",\"last_name\",\"party\"\n",
    "    ]\n",
    ")\n",
    "    \n",
    "# There is no data in it; you can use the ``len()`` generic\n",
    "print(\n",
    "    \"len( us_presidents )={}\".format(\n",
    "        len( us_presidents)\n",
    "    )\n",
    ")\n",
    "\n",
    "print(\n",
    "    \"us_presidents.shape={}\".format(\n",
    "        us_presidents.shape\n",
    "    )\n",
    ")"
   ]
  },
  {
   "cell_type": "code",
   "execution_count": 3,
   "id": "e903abaa",
   "metadata": {},
   "outputs": [
    {
     "name": "stdout",
     "output_type": "stream",
     "text": [
      "country position first_name last_name party\n",
      "------- -------- ---------- --------- -----\n"
     ]
    }
   ],
   "source": [
    "prettyprint( us_presidents )"
   ]
  },
  {
   "cell_type": "code",
   "execution_count": 4,
   "id": "c9a2f872",
   "metadata": {},
   "outputs": [
    {
     "name": "stdout",
     "output_type": "stream",
     "text": [
      "      country  position first_name  last_name      party\n",
      "------------- --------- ---------- ---------- ----------\n",
      "United States President     George Washington       None\n",
      "United States President       John      Adams Federalist\n"
     ]
    }
   ],
   "source": [
    "# Add the first two presidents. George Washington had no party, so we can say\n",
    "#   `{\"party\": None}` or omit it while setting `strict = False` in `.append`\n",
    "# John Adams was of the Federalist party, perhaps to the chagrin of GW\n",
    "\n",
    "us_presidents.append(\n",
    "    { \"first_name\": \"George\", \"last_name\": \"Washington\" },\n",
    "    strict = False\n",
    ")\n",
    "\n",
    "us_presidents.append(\n",
    "    { \"first_name\": \"John\", \"last_name\": \"Adams\", \"party\": \"Federalist\" }\n",
    ")\n",
    "\n",
    "prettyprint( us_presidents )"
   ]
  },
  {
   "cell_type": "code",
   "execution_count": 5,
   "id": "d411ee94",
   "metadata": {},
   "outputs": [
    {
     "name": "stdout",
     "output_type": "stream",
     "text": [
      "{'_fixed': {'country': 'United States', 'position': 'President'}, '_shift': {'first_name': ['George', 'John'], 'last_name': ['Washington', 'Adams'], 'party': [None, 'Federalist']}, '_shiftIndex': {}, '_keyTypes': {}, '_meta': {}}\n"
     ]
    }
   ],
   "source": [
    "# You can inspect the json styled literal representation by using ``print()``\n",
    "# You won't have to do this most of the time but is useful for understanding the structure\n",
    "#   or seeing how it will save to disk\n",
    "\n",
    "print( us_presidents )"
   ]
  },
  {
   "cell_type": "code",
   "execution_count": 6,
   "id": "b48adac7",
   "metadata": {},
   "outputs": [
    {
     "name": "stdout",
     "output_type": "stream",
     "text": [
      "      country  position  first_name  last_name                 party\n",
      "------------- --------- ----------- ---------- ---------------------\n",
      "United States President      George Washington                  None\n",
      "United States President        John      Adams            Federalist\n",
      "United States President      Thomas  Jefferson Democratic-Republican\n",
      "United States President       James    Madison Democratic-Republican\n",
      "United States President       James     Monroe Democratic-Republican\n",
      "United States President John Quincy      Adams Democratic-Republican\n"
     ]
    }
   ],
   "source": [
    "# Thomas Jefferson was a Democratic-Republican and things were never the same since\n",
    "us_presidents.append(\n",
    "    {\"first_name\": \"Thomas\",\"last_name\":\"Jefferson\",\"party\":\"Democratic-Republican\"}\n",
    ")\n",
    "\n",
    "# James Madison was elected next as a Democratic-Republican. Federalists are furious.\n",
    "us_presidents.append(\n",
    "    {\"first_name\": \"James\",\"last_name\":\"Madison\",\"party\":\"Democratic-Republican\"}\n",
    ")\n",
    "\n",
    "# Same with James Monroe and John Quincy Adams\n",
    "us_presidents.append(\n",
    "    {\"first_name\": \"James\",\"last_name\":\"Monroe\",\"party\":\"Democratic-Republican\"}\n",
    ")\n",
    "\n",
    "us_presidents.append(\n",
    "    {\"first_name\": \"John Quincy\",\"last_name\":\"Adams\",\"party\":\"Democratic-Republican\"}\n",
    ")\n",
    "\n",
    "prettyprint( us_presidents )"
   ]
  },
  {
   "cell_type": "code",
   "execution_count": 7,
   "id": "6e9f6bac",
   "metadata": {},
   "outputs": [
    {
     "data": {
      "text/plain": [
       "'Democratic-Republican'"
      ]
     },
     "execution_count": 7,
     "metadata": {},
     "output_type": "execute_result"
    }
   ],
   "source": [
    "# Wait, what was JQ Adams's party? We remember he was the 6th president, so index `5`\n",
    "us_presidents[ 5, \"party\" ]"
   ]
  },
  {
   "cell_type": "code",
   "execution_count": 8,
   "id": "f3fcf8f9",
   "metadata": {},
   "outputs": [
    {
     "name": "stdout",
     "output_type": "stream",
     "text": [
      "      country  position  first_name  last_name                                            party\n",
      "------------- --------- ----------- ---------- ------------------------------------------------\n",
      "United States President      George Washington                                             None\n",
      "United States President        John      Adams                                       Federalist\n",
      "United States President      Thomas  Jefferson                            Democratic-Republican\n",
      "United States President       James    Madison                            Democratic-Republican\n",
      "United States President       James     Monroe                            Democratic-Republican\n",
      "United States President John Quincy      Adams ['Democratic-Republican', 'National Republican']\n"
     ]
    }
   ],
   "source": [
    "# Despite successes, the Democratic-Republicans dissolved during his term, and JQ Adams became a National Republican\n",
    "# Since we have a JyFrame rather than a .csv based file, we can have a list as an item in the table\n",
    "# Lists of strings serialize fine as json so we are safe to do so\n",
    "us_presidents[ 5, \"party\" ] = ['Democratic-Republican','National Republican']\n",
    "\n",
    "prettyprint( us_presidents )"
   ]
  },
  {
   "cell_type": "code",
   "execution_count": 9,
   "id": "04a93479",
   "metadata": {},
   "outputs": [
    {
     "name": "stdout",
     "output_type": "stream",
     "text": [
      " first_name  last_name                                            party\n",
      "----------- ---------- ------------------------------------------------\n",
      "     George Washington                                             None\n",
      "       John      Adams                                       Federalist\n",
      "     Thomas  Jefferson                            Democratic-Republican\n",
      "      James    Madison                            Democratic-Republican\n",
      "      James     Monroe                            Democratic-Republican\n",
      "John Quincy      Adams ['Democratic-Republican', 'National Republican']\n"
     ]
    }
   ],
   "source": [
    "# We might only care about the names and parties of presidents\n",
    "prettyprint(\n",
    "    us_presidents[ [\"first_name\",\"last_name\",\"party\"] ]\n",
    ")"
   ]
  },
  {
   "cell_type": "code",
   "execution_count": 10,
   "id": "3788f9f6",
   "metadata": {},
   "outputs": [
    {
     "name": "stdout",
     "output_type": "stream",
     "text": [
      "      country  position first_name  last_name                 party\n",
      "------------- --------- ---------- ---------- ---------------------\n",
      "United States President     George Washington                  None\n",
      "United States President       John      Adams            Federalist\n",
      "United States President     Thomas  Jefferson Democratic-Republican\n"
     ]
    }
   ],
   "source": [
    "# We can also get row subsets\n",
    "prettyprint(\n",
    "    us_presidents[ 0:3 ]\n",
    ")"
   ]
  },
  {
   "cell_type": "code",
   "execution_count": 11,
   "id": "78f37aac",
   "metadata": {},
   "outputs": [
    {
     "name": "stdout",
     "output_type": "stream",
     "text": [
      "      country  position  first_name last_name                                            party\n",
      "------------- --------- ----------- --------- ------------------------------------------------\n",
      "United States President        John     Adams                                       Federalist\n",
      "United States President       James   Madison                            Democratic-Republican\n",
      "United States President John Quincy     Adams ['Democratic-Republican', 'National Republican']\n"
     ]
    }
   ],
   "source": [
    "prettyprint(\n",
    "    us_presidents[ (1,3,5) ]\n",
    ")"
   ]
  },
  {
   "cell_type": "code",
   "execution_count": 12,
   "id": "943f3279",
   "metadata": {},
   "outputs": [
    {
     "name": "stdout",
     "output_type": "stream",
     "text": [
      "first_name  last_name                 party\n",
      "---------- ---------- ---------------------\n",
      "    George Washington                  None\n",
      "      John      Adams            Federalist\n",
      "    Thomas  Jefferson Democratic-Republican\n"
     ]
    }
   ],
   "source": [
    "# We can select multiple rows and multiple columns\n",
    "prettyprint(\n",
    "    us_presidents[ 0:3, [\"first_name\",\"last_name\",\"party\"] ]\n",
    ")"
   ]
  },
  {
   "cell_type": "code",
   "execution_count": 13,
   "id": "2bcd09f2",
   "metadata": {},
   "outputs": [
    {
     "name": "stdout",
     "output_type": "stream",
     "text": [
      "[None, 'Federalist', 'Democratic-Republican']\n",
      "[None, 'Federalist', 'Democratic-Republican', 'Democratic-Republican', 'Democratic-Republican', ['Democratic-Republican', 'National Republican']]\n"
     ]
    }
   ],
   "source": [
    "# Multiple rows but one column gives a list of values\n",
    "prettyprint(\n",
    "    us_presidents[ 0:3, \"party\" ]\n",
    ")\n",
    "\n",
    "prettyprint(\n",
    "    us_presidents[ \"party\" ]\n",
    ")"
   ]
  },
  {
   "cell_type": "code",
   "execution_count": 14,
   "id": "fd615a52",
   "metadata": {},
   "outputs": [
    {
     "name": "stdout",
     "output_type": "stream",
     "text": [
      "{'country': 'United States', 'position': 'President', 'first_name': 'John', 'last_name': 'Adams', 'party': 'Federalist'}\n",
      "{'first_name': 'John', 'last_name': 'Adams', 'party': 'Federalist'}\n"
     ]
    }
   ],
   "source": [
    "# Multiple columns but one row gives a row (subset) as a dictionary\n",
    "prettyprint(\n",
    "    us_presidents[1]\n",
    ")\n",
    "\n",
    "prettyprint(\n",
    "    us_presidents[1, [\"first_name\",\"last_name\",\"party\"] ]\n",
    ")"
   ]
  },
  {
   "cell_type": "code",
   "execution_count": 15,
   "id": "5ee4a939",
   "metadata": {},
   "outputs": [
    {
     "name": "stdout",
     "output_type": "stream",
     "text": [
      "   a    b    c\n",
      "---- ---- ----\n",
      "None None None\n",
      "None None None\n",
      "None None None\n"
     ]
    }
   ],
   "source": [
    "# If we want to set multiple values at a time there are a few ways\n",
    "a_jyFrame: jable.JyFrame = jable.fromHeaders(\n",
    "    shiftHeader = ['a','b','c']\n",
    ")\n",
    "    \n",
    "for _ in range( 3):\n",
    "    a_jyFrame.append({}, strict = False)\n",
    "#\n",
    "\n",
    "prettyprint( a_jyFrame )"
   ]
  },
  {
   "cell_type": "code",
   "execution_count": 16,
   "id": "57f25cce",
   "metadata": {},
   "outputs": [
    {
     "name": "stdout",
     "output_type": "stream",
     "text": [
      "    a    b     c\n",
      "----- ---- -----\n",
      "alpha beta gamma\n",
      " None None  None\n",
      " None None  None\n"
     ]
    }
   ],
   "source": [
    "# Set a row\n",
    "\n",
    "a_jyFrame[ 0 ] = ['alpha','beta','gamma']\n",
    "\n",
    "prettyprint( a_jyFrame )"
   ]
  },
  {
   "cell_type": "code",
   "execution_count": 17,
   "id": "8eadefac",
   "metadata": {},
   "outputs": [
    {
     "name": "stdout",
     "output_type": "stream",
     "text": [
      "    a    b     c\n",
      "----- ---- -----\n",
      "alpha beta gamma\n",
      "    0 None     2\n",
      " None None  None\n"
     ]
    }
   ],
   "source": [
    "# To be safer, it's typically better to set the row with a dict; then you don't have to update all columns\n",
    "a_jyFrame[ 1, ['a','c'] ] = {'a': 0, 'c': 2 }\n",
    "\n",
    "prettyprint( a_jyFrame )"
   ]
  },
  {
   "cell_type": "code",
   "execution_count": 18,
   "id": "8b2033c2",
   "metadata": {},
   "outputs": [
    {
     "name": "stdout",
     "output_type": "stream",
     "text": [
      "    a    b     c\n",
      "----- ---- -----\n",
      "alpha beta gamma\n",
      "    0    1    -1\n",
      " None None  None\n"
     ]
    }
   ],
   "source": [
    "# If you're using dictionary setting, you can omit the columns in braces\n",
    "a_jyFrame[ 1 ] = { 'b': 1, 'c':-1 }\n",
    "prettyprint( a_jyFrame )"
   ]
  },
  {
   "cell_type": "code",
   "execution_count": 19,
   "id": "303d3496",
   "metadata": {},
   "outputs": [
    {
     "name": "stdout",
     "output_type": "stream",
     "text": [
      "    a    b     c\n",
      "----- ---- -----\n",
      "alpha beta gamma\n",
      "    0    1    -1\n",
      " None None  None\n"
     ]
    }
   ],
   "source": [
    "# If you're setting multiple rows and columns, use\n",
    "#   - a list of dictionaries\n",
    "#   - a list of lists (careful with columns)\n",
    "#   - a new JyFrame\n",
    "\n",
    "# List of dictionaries:\n",
    "\n",
    "\n",
    "prettyprint( a_jyFrame )"
   ]
  },
  {
   "cell_type": "code",
   "execution_count": 20,
   "id": "481b0a3d",
   "metadata": {},
   "outputs": [
    {
     "name": "stdout",
     "output_type": "stream",
     "text": [
      "    a    b     c\n",
      "----- ---- -----\n",
      "alpha beta gamma\n",
      "   a1   b1    -1\n",
      " None   b2  None\n"
     ]
    }
   ],
   "source": [
    "# List of lists:\n",
    "a_jyFrame[ 1:3, ['a','b'] ] = [\n",
    "    [ 'a1', 'b1' ],\n",
    "    [ None, None ]\n",
    "]\n",
    "\n",
    "prettyprint( a_jyFrame )"
   ]
  },
  {
   "cell_type": "code",
   "execution_count": 22,
   "id": "bee6a081",
   "metadata": {},
   "outputs": [
    {
     "name": "stdout",
     "output_type": "stream",
     "text": [
      "    a  b    c\n",
      "----- -- ----\n",
      "alpha Si   No\n",
      "   a1 Ja Nein\n",
      " None b2 None\n"
     ]
    }
   ],
   "source": [
    "# Update with new JyFrame\n",
    "b_jyFrame = jable.fromHeaders(\n",
    "    shiftHeader = ['b','c']\n",
    ")\n",
    "\n",
    "b_jyFrame.extend(\n",
    "    [\n",
    "        {'b': 'Si', 'c': 'No'},\n",
    "        {'b': 'Ja', 'c': 'Nein' }\n",
    "    ]\n",
    ")\n",
    "\n",
    "a_jyFrame[ 0:2, ['b','c' ] ] = b_jyFrame\n",
    "\n",
    "prettyprint( a_jyFrame )"
   ]
  },
  {
   "cell_type": "code",
   "execution_count": null,
   "id": "9e2ebebb",
   "metadata": {},
   "outputs": [],
   "source": []
  }
 ],
 "metadata": {
  "kernelspec": {
   "display_name": "Python 3.11 env",
   "language": "python",
   "name": "python3.11"
  },
  "language_info": {
   "codemirror_mode": {
    "name": "ipython",
    "version": 3
   },
   "file_extension": ".py",
   "mimetype": "text/x-python",
   "name": "python",
   "nbconvert_exporter": "python",
   "pygments_lexer": "ipython3",
   "version": "3.11.10"
  }
 },
 "nbformat": 4,
 "nbformat_minor": 5
}
